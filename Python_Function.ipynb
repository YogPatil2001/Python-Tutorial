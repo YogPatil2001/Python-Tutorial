{
 "cells": [
  {
   "cell_type": "markdown",
   "id": "81ecf233-e5af-4332-9796-c9268a878a51",
   "metadata": {},
   "source": []
  },
  {
   "cell_type": "code",
   "execution_count": null,
   "id": "77494276-27f2-41aa-84e7-de5d46cc068c",
   "metadata": {},
   "outputs": [],
   "source": []
  },
  {
   "cell_type": "code",
   "execution_count": null,
   "id": "6aa1311b-c5a7-44b1-a813-1495b66eb699",
   "metadata": {},
   "outputs": [],
   "source": []
  },
  {
   "cell_type": "code",
   "execution_count": null,
   "id": "7bf4e28e-89a3-41b7-8313-da8836e2edd3",
   "metadata": {},
   "outputs": [],
   "source": []
  },
  {
   "cell_type": "code",
   "execution_count": null,
   "id": "ab61d800-a09a-4ea6-800e-34818ad538cc",
   "metadata": {},
   "outputs": [],
   "source": []
  },
  {
   "cell_type": "code",
   "execution_count": null,
   "id": "b058ef53-d4fb-4c2c-be31-d3c66dbcedc5",
   "metadata": {},
   "outputs": [],
   "source": []
  },
  {
   "cell_type": "markdown",
   "id": "707524eb-e5d3-4b2a-a289-0d8345c56968",
   "metadata": {},
   "source": [
    "**User-defined functions**\n",
    ">\"Functins which are developed by programmers explicidely used according to need,are referred as user-defined function\n",
    "\n",
    ">keyword **def** is used to write function definition in python programming.\n",
    "\n",
    "**Syntax:**\n",
    "    **def** function_name(parameter):\n",
    "\n",
    "          '''docstring'''\n",
    "\n",
    "          block of statements\n",
    "\n",
    "            **return** value\n"
   ]
  },
  {
   "cell_type": "markdown",
   "id": "9ad34872-a79a-4157-b38a-f05cd17c3ed1",
   "metadata": {},
   "source": [
    "function_name is an identifier by which function is called."
   ]
  },
  {
   "cell_type": "markdown",
   "id": "e15e030f-23b7-4fe7-a70e-05cad7167c7c",
   "metadata": {},
   "source": [
    "**Function call**\n",
    "A function is called through its name followed by function call operator'()'\n",
    "\n",
    "**Syntax-**\n",
    "    function_name(arguments)\n",
    "\n",
    "Whenever function is called, control of execution is transferred to body of function.\n",
    "\n",
    "Definition of function must appear before it's call\n"
   ]
  },
  {
   "cell_type": "code",
   "execution_count": 10,
   "id": "bb6742f7-856a-4e0d-a8ee-d1ded38e7833",
   "metadata": {},
   "outputs": [
    {
     "name": "stdout",
     "output_type": "stream",
     "text": [
      "hello world\n"
     ]
    }
   ],
   "source": [
    "def hello():\n",
    "    print('hello world')\n",
    "hello()"
   ]
  },
  {
   "cell_type": "code",
   "execution_count": 11,
   "id": "a0d30293-a3d1-415d-86f4-af9c3db7269f",
   "metadata": {},
   "outputs": [
    {
     "name": "stdout",
     "output_type": "stream",
     "text": [
      "<class 'function'>\n"
     ]
    }
   ],
   "source": [
    "print(type(hello))"
   ]
  },
  {
   "cell_type": "code",
   "execution_count": 22,
   "id": "4879d606-f932-4d58-9fd8-ccc5fe9a05b5",
   "metadata": {},
   "outputs": [
    {
     "name": "stdin",
     "output_type": "stream",
     "text": [
      "Enter Your Name yogesh   \n"
     ]
    },
    {
     "name": "stdout",
     "output_type": "stream",
     "text": [
      "hello yogesh   \n"
     ]
    }
   ],
   "source": [
    "def hello(name):\n",
    "    print('hello',name)\n",
    "n=input('Enter Your Name')\n",
    "hello(n)"
   ]
  },
  {
   "cell_type": "code",
   "execution_count": 19,
   "id": "12be84a3-4cea-4e17-947b-dde8625876ba",
   "metadata": {},
   "outputs": [
    {
     "name": "stdout",
     "output_type": "stream",
     "text": [
      "Hello Japan\n",
      "Hello USA\n",
      "Hello Nepal\n"
     ]
    }
   ],
   "source": [
    "def japan():\n",
    "    print('Hello Japan')\n",
    "\n",
    "def usa():\n",
    "    print('Hello USA')\n",
    "\n",
    "def nepal():\n",
    "    usa()\n",
    "    print('Hello Nepal')\n",
    "\n",
    "japan()\n",
    "nepal()\n"
   ]
  },
  {
   "cell_type": "markdown",
   "id": "d4a41278-3142-4c0d-b776-3c978930680e",
   "metadata": {},
   "source": [
    "**Scope of variable/Types of variable**"
   ]
  },
  {
   "cell_type": "markdown",
   "id": "a7f69029-0ea0-464f-a7ff-d70febd2d1b0",
   "metadata": {},
   "source": [
    "**Global variable**\n",
    "The variable which are create outside the function are called as global variables.\n",
    "\n",
    "These variables can be accessed in all functions of that module.\n",
    "\n",
    "Life and scope of global variable is program.\n",
    "\n",
    "**Local variable**\n",
    "The variables which are created inside a function are called as local variables.\n",
    "\n",
    "Local variables are available only for the function in which they are declared.(Not accessible outside function)"
   ]
  },
  {
   "cell_type": "code",
   "execution_count": 24,
   "id": "5b19183d-5a31-49f8-9c36-362eed78b8de",
   "metadata": {},
   "outputs": [
    {
     "name": "stdout",
     "output_type": "stream",
     "text": [
      "10 20\n"
     ]
    }
   ],
   "source": [
    "def myFunction():\n",
    "    a=10  #local variable \n",
    "    print(a,b)\n",
    "\n",
    "b=20   #Global variable\n",
    "myFunction()"
   ]
  },
  {
   "cell_type": "markdown",
   "id": "1384cf42-a8d0-4a52-adf5-f9e2ff443bc7",
   "metadata": {},
   "source": [
    "**Types of parameters/arguments:**\n",
    "value or object that is passed  to function through function call is referred as parameter.\n",
    "\n",
    "Basically, there are two types of parameters\n",
    "\n",
    "1.Formal parameters\n",
    "\n",
    "2.Actual parameters"
   ]
  },
  {
   "cell_type": "markdown",
   "id": "79b2e39e-4e4e-444d-8942-16775d1e5ae3",
   "metadata": {},
   "source": [
    "**Formal parameters:**\n",
    "Parameters used in function header are formal parameters.\n",
    "\n",
    "They are **used to receive values in functions.**\n",
    "\n",
    "Python uses **pass by object reference** method of collecting parameters.\n",
    "\n",
    "1.For immutable objects, its like pass by value.\n",
    "\n",
    "2.For mutable objects,its like pass by reference.\n"
   ]
  },
  {
   "cell_type": "code",
   "execution_count": 4,
   "id": "e89f3eb8-2a38-4d8d-a7d0-3da6a71d2132",
   "metadata": {},
   "outputs": [
    {
     "name": "stdout",
     "output_type": "stream",
     "text": [
      "hello yogesh\n"
     ]
    }
   ],
   "source": [
    "def hello(name):\n",
    "    print('hello',name)\n",
    "hello('yogesh')"
   ]
  },
  {
   "cell_type": "markdown",
   "id": "60e2c01a-3e13-4d9d-a62a-5e908183dcf6",
   "metadata": {},
   "source": [
    "**WAP define a function to print following pattern**\n",
    "*\n",
    "**\n",
    "***\n",
    "****\n",
    "*****\n",
    "Number of of rows and character are given as parameter.\n",
    "Default value of character parameter  is '*'"
   ]
  },
  {
   "cell_type": "markdown",
   "id": "3a0a282e-3a64-4667-872f-0fa60db31e9a",
   "metadata": {},
   "source": [
    "with default parameter"
   ]
  },
  {
   "cell_type": "code",
   "execution_count": 7,
   "id": "de9677f4-9ff0-4061-b4c2-dd8ed2811b22",
   "metadata": {},
   "outputs": [
    {
     "name": "stdin",
     "output_type": "stream",
     "text": [
      "Enter the rows 5\n",
      "Enter the character \n"
     ]
    },
    {
     "name": "stdout",
     "output_type": "stream",
     "text": [
      "\n",
      "*\t\n",
      "*\t*\t\n",
      "*\t*\t*\t\n",
      "*\t*\t*\t*\t\n",
      "*\t*\t*\t*\t*\t"
     ]
    }
   ],
   "source": [
    "def pattern(n,c='*'):\n",
    "    for i in range(1,n+1):\n",
    "        print()\n",
    "        for j in range(1,i+1):\n",
    "            print(c,end='\\t')\n",
    "r=int(input('Enter the rows'))\n",
    "ch=input('Enter the character')\n",
    "pattern(r)\n",
    "    "
   ]
  },
  {
   "cell_type": "markdown",
   "id": "07da911b-020d-4461-b1e4-02dd181f121a",
   "metadata": {},
   "source": [
    "Without default parameter"
   ]
  },
  {
   "cell_type": "code",
   "execution_count": 8,
   "id": "a0ed37b2-d660-4b5a-832e-7ca581f52cd4",
   "metadata": {},
   "outputs": [
    {
     "name": "stdin",
     "output_type": "stream",
     "text": [
      "Enter the rows 6\n",
      "Enter the character #\n"
     ]
    },
    {
     "name": "stdout",
     "output_type": "stream",
     "text": [
      "\n",
      "#\t\n",
      "#\t#\t\n",
      "#\t#\t#\t\n",
      "#\t#\t#\t#\t\n",
      "#\t#\t#\t#\t#\t\n",
      "#\t#\t#\t#\t#\t#\t"
     ]
    }
   ],
   "source": [
    "def pattern(n,c='*'):\n",
    "    for i in range(1,n+1):\n",
    "        print()\n",
    "        for j in range(1,i+1):\n",
    "            print(c,end='\\t')\n",
    "r=int(input('Enter the rows'))\n",
    "ch=input('Enter the character')\n",
    "pattern(r,ch)\n",
    "    "
   ]
  },
  {
   "cell_type": "code",
   "execution_count": 1,
   "id": "913752a8-8ce5-4f1c-aa2c-38b7ef7748ee",
   "metadata": {},
   "outputs": [
    {
     "name": "stdout",
     "output_type": "stream",
     "text": [
      "3 2\n"
     ]
    }
   ],
   "source": [
    "def myf(a,b):\n",
    "    print(a,b)\n",
    "myf(3,2)\n",
    "    "
   ]
  },
  {
   "cell_type": "code",
   "execution_count": 2,
   "id": "c89d6450-492f-49af-bb55-5686911ee799",
   "metadata": {},
   "outputs": [
    {
     "name": "stdout",
     "output_type": "stream",
     "text": [
      "(1, 2, 3, 4, 5, 5, 'a')\n"
     ]
    }
   ],
   "source": [
    "def myf(*a):\n",
    "    print(a)\n",
    "myf(1,2,3,4,5,5,'a')"
   ]
  },
  {
   "cell_type": "code",
   "execution_count": 3,
   "id": "965773b8-0c41-46e9-a72d-640a7444ea93",
   "metadata": {},
   "outputs": [
    {
     "name": "stdout",
     "output_type": "stream",
     "text": [
      "1 2 (3, 4, 4, 5, 6)\n"
     ]
    }
   ],
   "source": [
    "def myf(a,b,*c):\n",
    "    print(a,b,c)\n",
    "myf(1,2,3,4,4,5,6)"
   ]
  },
  {
   "cell_type": "code",
   "execution_count": 7,
   "id": "50546d6b-8555-4c32-ad9d-ce641dd94c2e",
   "metadata": {},
   "outputs": [
    {
     "name": "stdout",
     "output_type": "stream",
     "text": [
      "{'a': 10, 'b': 20}\n"
     ]
    }
   ],
   "source": [
    "def myf(**a):\n",
    "    print(a)\n",
    "myf(a=10,b=20)"
   ]
  },
  {
   "cell_type": "code",
   "execution_count": 19,
   "id": "6d9a4710-59f8-41b2-b15f-79c8944b11cd",
   "metadata": {},
   "outputs": [
    {
     "name": "stdout",
     "output_type": "stream",
     "text": [
      "{'a': 10, 'b': 20, 'c': 30, 'd': 40, 'e': 50, 'f': 60}\n",
      "{'Name': 1}\n"
     ]
    }
   ],
   "source": [
    "def dict_(**a):\n",
    "    print(a)\n",
    "dict_(a=10,b=20,c=30,d=40,e=50,f=60)\n",
    "dict_(Name=1)"
   ]
  },
  {
   "cell_type": "code",
   "execution_count": 22,
   "id": "178d9ccd-a4ba-44ad-828a-6fe6f5085448",
   "metadata": {},
   "outputs": [
    {
     "name": "stdout",
     "output_type": "stream",
     "text": [
      "(1, 2) 3 4\n"
     ]
    }
   ],
   "source": [
    "def myfunction(*a,p,q):\n",
    "    print(a,p,q)\n",
    "myfunction(1,2,p=3,q=4)"
   ]
  },
  {
   "cell_type": "markdown",
   "id": "3d96cc11-4614-48b7-a46d-ce69233a5402",
   "metadata": {},
   "source": [
    "WAP to print the even numbers from a given list through function"
   ]
  },
  {
   "cell_type": "code",
   "execution_count": 2,
   "id": "c05ba148-ee0e-4602-b514-7e076673d2d3",
   "metadata": {},
   "outputs": [
    {
     "name": "stdin",
     "output_type": "stream",
     "text": [
      "Enter the list in []:  [1,2,3,4,5,6,7,8,9,10]\n"
     ]
    },
    {
     "name": "stdout",
     "output_type": "stream",
     "text": [
      "[2, 4, 6, 8, 10]\n"
     ]
    }
   ],
   "source": [
    "def printEven(a):\n",
    "    '''This function prints even numbers from list'''\n",
    "    print([x for x in a if x%2==0])\n",
    "n=eval(input('Enter the list in []: '))\n",
    "printEven(n)"
   ]
  },
  {
   "cell_type": "markdown",
   "id": "9abb00e3-7182-444f-8735-f02198c0dd4b",
   "metadata": {},
   "source": [
    "WAP to print multiplication table of given number"
   ]
  },
  {
   "cell_type": "code",
   "execution_count": 13,
   "id": "994195e4-e56f-4550-b7ef-15c78c046f02",
   "metadata": {},
   "outputs": [
    {
     "name": "stdin",
     "output_type": "stream",
     "text": [
      "Enter the number 17\n"
     ]
    },
    {
     "name": "stdout",
     "output_type": "stream",
     "text": [
      "Multiplication Table of 17:\n",
      "  17 X   1 =  17\n",
      "  17 X   2 =  34\n",
      "  17 X   3 =  51\n",
      "  17 X   4 =  68\n",
      "  17 X   5 =  85\n",
      "  17 X   6 = 102\n",
      "  17 X   7 = 119\n",
      "  17 X   8 = 136\n",
      "  17 X   9 = 153\n",
      "  17 X  10 = 170\n"
     ]
    }
   ],
   "source": [
    "def multiTable(a):\n",
    "    print(f'Multiplication Table of {a}:')\n",
    "    for i in range(1,11):\n",
    "        print(f' {a:3} X {i:3} = {a*i:3}')\n",
    "n=int(input('Enter the number'))\n",
    "multiTable(n)"
   ]
  },
  {
   "cell_type": "markdown",
   "id": "28b3bff6-95bf-4a05-9423-da09758d4b86",
   "metadata": {},
   "source": [
    "Define a function add which takes two integer parameters and return their addition"
   ]
  },
  {
   "cell_type": "code",
   "execution_count": 20,
   "id": "94baa416-ae47-4cef-a321-0ca404565bfa",
   "metadata": {},
   "outputs": [
    {
     "name": "stdin",
     "output_type": "stream",
     "text": [
      "Enter two nos. 10 12\n"
     ]
    },
    {
     "name": "stdout",
     "output_type": "stream",
     "text": [
      "addition=22\n"
     ]
    }
   ],
   "source": [
    "def addition(a,b):\n",
    "    return a+b\n",
    "x,y=[int(x) for x in input('Enter two nos.').split()]\n",
    "print(f'addition={addition(x,y)}')"
   ]
  },
  {
   "cell_type": "markdown",
   "id": "5c6dc934-5d89-425c-9c90-48ba7f33751e",
   "metadata": {},
   "source": [
    "WAP to define a fun which returns addition of given integers. Fun should take any number of parameters."
   ]
  },
  {
   "cell_type": "code",
   "execution_count": 23,
   "id": "97d8fab6-237b-4652-ae89-fc7a281e8243",
   "metadata": {},
   "outputs": [
    {
     "name": "stdout",
     "output_type": "stream",
     "text": [
      "15\n",
      "89\n"
     ]
    }
   ],
   "source": [
    "def add(*a):  '''variable length arguments'''\n",
    "    return sum(a)  '''a is tuple of all parameters'''\n",
    "print(add(1,2,3,4,5))\n",
    "print(add(9,15,10,1,2,3,4,5,6,7,8,9,10))"
   ]
  },
  {
   "cell_type": "markdown",
   "id": "02870ce9-4340-4547-bb07-ad6c13a32d83",
   "metadata": {},
   "source": [
    "Define a function to calculate & return sum of digits"
   ]
  },
  {
   "cell_type": "code",
   "execution_count": 28,
   "id": "0c268f0f-364d-4d91-9df9-c4c8259fda0a",
   "metadata": {},
   "outputs": [
    {
     "name": "stdin",
     "output_type": "stream",
     "text": [
      "Enter the number 124\n"
     ]
    },
    {
     "data": {
      "text/plain": [
       "7"
      ]
     },
     "execution_count": 28,
     "metadata": {},
     "output_type": "execute_result"
    }
   ],
   "source": [
    "def sumDigit(a):\n",
    "    sum_=0\n",
    "    while a!=0:\n",
    "        sum_+=a%10\n",
    "        a//=10\n",
    "    return sum_\n",
    "n=int(input('Enter the number'))\n",
    "sumDigit(n)"
   ]
  },
  {
   "cell_type": "code",
   "execution_count": 36,
   "id": "143f4410-c233-4380-9b75-445c8c50b241",
   "metadata": {},
   "outputs": [
    {
     "name": "stdin",
     "output_type": "stream",
     "text": [
      "Enter the number 128\n"
     ]
    },
    {
     "data": {
      "text/plain": [
       "11"
      ]
     },
     "execution_count": 36,
     "metadata": {},
     "output_type": "execute_result"
    }
   ],
   "source": [
    "def sum_Of_Digit(a):\n",
    "    sum_=0\n",
    "    for x in str(a):\n",
    "        sum_+=int(x)\n",
    "    return sum_\n",
    "n=int(input('Enter the number'))\n",
    "sum_Of_Digit(n)"
   ]
  },
  {
   "cell_type": "markdown",
   "id": "3934c269-868f-4c38-8211-c8ee9b60be07",
   "metadata": {},
   "source": [
    "Define a function to calculate the sum of given numbers"
   ]
  },
  {
   "cell_type": "code",
   "execution_count": 1,
   "id": "51061e29-5dfc-4ad6-97dd-09c45b2a34a1",
   "metadata": {},
   "outputs": [
    {
     "name": "stdout",
     "output_type": "stream",
     "text": [
      "15\n",
      "89\n"
     ]
    }
   ],
   "source": [
    "def add(*a):  '''variable length arguments'''\n",
    "    return sum(a)  '''a is tuple of all parameters'''\n",
    "print(add(1,2,3,4,5))\n",
    "print(add(9,15,10,1,2,3,4,5,6,7,8,9,10))"
   ]
  },
  {
   "cell_type": "markdown",
   "id": "df188151-ebbf-44a7-afac-a32482da6de0",
   "metadata": {},
   "source": [
    "Define a function largest which takes exactly three numeric parameters and return maximum."
   ]
  },
  {
   "cell_type": "code",
   "execution_count": 12,
   "id": "e2727383-1cd6-42c7-8543-bb291018c8c4",
   "metadata": {},
   "outputs": [
    {
     "name": "stdout",
     "output_type": "stream",
     "text": [
      "Invalid Parameter-p,q,r\n",
      "Maximum=56\n",
      "Invalid Parameter-True,4,x\n"
     ]
    }
   ],
   "source": [
    "def maximum(a,b,c):\n",
    "    check=[type(x) is int or type(x) is float for x in (a,b,c)]\n",
    "    if all(check):\n",
    "        if a>b and a>c:\n",
    "           print(f'Maximum={a}')\n",
    "        elif b>c:\n",
    "            print(f'Maximum={b}')\n",
    "        else:\n",
    "            print(f'Maximum={c}')\n",
    "    else:\n",
    "        print(f'Invalid Parameter-{a},{b},{c}')\n",
    "maximum('p','q','r')\n",
    "maximum(10,3.4,56)\n",
    "maximum(True,4,'x')\n",
    "            \n"
   ]
  },
  {
   "cell_type": "markdown",
   "id": "c04dc667-147c-4adc-844d-90445329949b",
   "metadata": {},
   "source": [
    "Write a python function that takes a number as a parameter and check number is prime or not"
   ]
  },
  {
   "cell_type": "code",
   "execution_count": 47,
   "id": "3113fe60-d50f-4f84-9519-6c0ec4a658ca",
   "metadata": {},
   "outputs": [
    {
     "name": "stdin",
     "output_type": "stream",
     "text": [
      "Enter the number:  12\n"
     ]
    },
    {
     "name": "stdout",
     "output_type": "stream",
     "text": [
      "12 is not prime number\n"
     ]
    }
   ],
   "source": [
    "def isPrime(n):\n",
    "    if n==2:\n",
    "        return True\n",
    "    else:\n",
    "        for i in range(2,n):  #If factor is found then factor between 1 to 11\n",
    "            if n%i==0:\n",
    "                return False   #not prime if factor is found\n",
    "        return True           #prime if above loop completes without return\n",
    "x=int(input('Enter the number: '))\n",
    "if isPrime(x):\n",
    "    print(f'{x} is prime number')\n",
    "else:\n",
    "    print(f'{x} is not prime number')"
   ]
  },
  {
   "cell_type": "code",
   "execution_count": null,
   "id": "ce6984d8-be65-461f-8d6e-d8fa22ce2f51",
   "metadata": {},
   "outputs": [],
   "source": []
  },
  {
   "cell_type": "code",
   "execution_count": null,
   "id": "b9a2c778-d7aa-403d-ab8f-4fb25be95dcd",
   "metadata": {},
   "outputs": [],
   "source": []
  },
  {
   "cell_type": "code",
   "execution_count": null,
   "id": "2a0860de-d829-40d6-9172-82ce78ed81ef",
   "metadata": {},
   "outputs": [],
   "source": []
  },
  {
   "cell_type": "code",
   "execution_count": null,
   "id": "a57a77e4-2e3f-4173-9057-182067c00473",
   "metadata": {},
   "outputs": [],
   "source": []
  },
  {
   "cell_type": "code",
   "execution_count": null,
   "id": "50ea51e2-a67c-4dba-b8e2-76722b942440",
   "metadata": {},
   "outputs": [],
   "source": []
  },
  {
   "cell_type": "code",
   "execution_count": null,
   "id": "ce33c46f-c39b-4a5a-b7f5-7a7eafb5bc0a",
   "metadata": {},
   "outputs": [],
   "source": []
  },
  {
   "cell_type": "code",
   "execution_count": null,
   "id": "cfe80146-48fc-4724-820f-eec0c5ed6a55",
   "metadata": {},
   "outputs": [],
   "source": []
  },
  {
   "cell_type": "code",
   "execution_count": null,
   "id": "5bdf14eb-3428-409f-abce-c700767094d4",
   "metadata": {},
   "outputs": [],
   "source": []
  },
  {
   "cell_type": "code",
   "execution_count": null,
   "id": "6e992044-c187-499a-842e-f760fa7a0b51",
   "metadata": {},
   "outputs": [],
   "source": []
  },
  {
   "cell_type": "code",
   "execution_count": null,
   "id": "d4ed6a22-595b-4f99-9de5-9ecedc3621e4",
   "metadata": {},
   "outputs": [],
   "source": []
  },
  {
   "cell_type": "code",
   "execution_count": null,
   "id": "9e512d70-2de8-473d-b221-46b5989e58e7",
   "metadata": {},
   "outputs": [],
   "source": []
  }
 ],
 "metadata": {
  "kernelspec": {
   "display_name": "Python 3 (ipykernel)",
   "language": "python",
   "name": "python3"
  },
  "language_info": {
   "codemirror_mode": {
    "name": "ipython",
    "version": 3
   },
   "file_extension": ".py",
   "mimetype": "text/x-python",
   "name": "python",
   "nbconvert_exporter": "python",
   "pygments_lexer": "ipython3",
   "version": "3.12.0"
  }
 },
 "nbformat": 4,
 "nbformat_minor": 5
}
